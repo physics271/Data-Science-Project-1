{
 "cells": [
  {
   "cell_type": "code",
   "execution_count": 2,
   "id": "40717610",
   "metadata": {},
   "outputs": [],
   "source": [
    "import numpy as np\n",
    "import pandas as pd\n",
    "import matplotlib.pyplot as plt\n",
    "import plotly.express as px\n",
    "import statsmodels.api as sm\n",
    "from urllib.request import urlopen\n",
    "import json"
   ]
  },
  {
   "cell_type": "code",
   "execution_count": 3,
   "id": "19d2b8cd",
   "metadata": {},
   "outputs": [],
   "source": [
    "# Get shapes of counties\n",
    "with urlopen('https://raw.githubusercontent.com/plotly/datasets/master/geojson-counties-fips.json') as response:\n",
    "    counties = json.load(response)\n",
    "\n",
    "# Get FIPS to county name data \n",
    "url = 'https://raw.githubusercontent.com/ChuckConnell/articles/master/fips2county.tsv'\n",
    "fips_and_counties = pd.read_csv(url, dtype='str', sep='\\t', \n",
    "                                usecols=['StateName', 'CountyName', 'CountyFIPS', 'STATE_COUNTY'])\n",
    "\n",
    "# Fix ñ character\n",
    "fips_and_counties.iloc[1802] = ['Dona Ana', 'New Mexico', '35013', 'NM | DONA ANA']\n",
    "\n",
    "for col in ['CountyName', 'StateName']:\n",
    "    fips_and_counties[col] = fips_and_counties[col].apply(lambda x: x.lower())"
   ]
  },
  {
   "cell_type": "code",
   "execution_count": 4,
   "id": "514cccce",
   "metadata": {},
   "outputs": [],
   "source": [
    "missing_counties = [('alaska', 'petersburg census area', '02195', 'AK | PETERSBURG CENSUS AREA'),\n",
    "('alaska', 'wade hampton census area', '02270', 'AK | WADE HAMPTON CENSUS AREA'),\n",
    "('louisiana', 'la salle parish', '22059', 'LA | LA SALLE PARISH'),\n",
    "('south dakota', 'shannon', '46113', 'SD | SHANNON'),\n",
    "('virginia', 'bedford city', '51515', 'VA | BEDFORD CITY')]\n",
    "\n",
    "missing_counties = pd.DataFrame(missing_counties,\n",
    "                                columns=['StateName', 'CountyName', 'CountyFIPS', 'STATE_COUNTY'])\n",
    "\n",
    "fips_and_counties = pd.concat([fips_and_counties, missing_counties], ignore_index=True)"
   ]
  },
  {
   "cell_type": "code",
   "execution_count": 5,
   "id": "ed816372",
   "metadata": {},
   "outputs": [],
   "source": [
    "fips_to_counties = fips_and_counties.set_index('CountyFIPS')['STATE_COUNTY'].to_dict()\n",
    "\n",
    "def format_county(name):\n",
    "    # DC is special\n",
    "    if name == 'DC | DISTRICT OF COLUMBIA':\n",
    "        return 'District Of Columbia | DC'\n",
    "    \n",
    "    # Title case the county name\n",
    "    title_case = name[5:].title()\n",
    "    last_word = name.split(' ')[-1]\n",
    "    \n",
    "    # Check if the word County should be added to the end\n",
    "    if last_word not in ['AREA', 'BOROUGH', 'PARISH', 'CITY', 'MUNICIPALITY']:\n",
    "        title_case += ' County'\n",
    "        \n",
    "    title_case = f'{title_case} | {name[:2]}'\n",
    "    \n",
    "    return title_case \n",
    "\n",
    "fips_to_counties = {key: format_county(val) for key, val in fips_to_counties.items()}"
   ]
  },
  {
   "cell_type": "code",
   "execution_count": 6,
   "id": "559c2737",
   "metadata": {},
   "outputs": [],
   "source": [
    "location_fips_dict = fips_and_counties.set_index(['StateName', 'CountyName'])['CountyFIPS'].to_dict()\n",
    "\n",
    "def state_location_to_fips(row):\n",
    "    state = row['State']\n",
    "    \n",
    "    location = row['Location'].split(' ')\n",
    "    \n",
    "    loc_name = ' '.join(location[:-1]) if location[-1]=='County' else row['Location']\n",
    "    \n",
    "    key = (state.lower(), loc_name.lower())\n",
    "    \n",
    "    if key not in location_fips_dict:\n",
    "        print(key)\n",
    "        return 'ERROR'\n",
    "    \n",
    "    return location_fips_dict[key]"
   ]
  },
  {
   "cell_type": "markdown",
   "id": "d80443a9",
   "metadata": {},
   "source": [
    "# School Finance Data"
   ]
  },
  {
   "cell_type": "code",
   "execution_count": 24,
   "id": "eb3d3db8",
   "metadata": {
    "scrolled": true
   },
   "outputs": [],
   "source": [
    "# Data from https://nces.ed.gov/ccd/files.asp#Fiscal:1,LevelId:5,Page:1\n",
    "# Documentation at https://nces.ed.gov/ccd/pdf/2020309_FY18F33_Documentation.pdf\n",
    "school_finance = pd.read_csv('./Raw Data/sdf19_1a.txt', sep='\\t', dtype={'CONUM':'str'},\n",
    "                            usecols=['CONUM', 'MEMBERSCH', 'E13', 'TOTALEXP'])\n",
    "\n",
    "# Group school finance data by county\n",
    "county_expenditure = school_finance.groupby(['CONUM'])[['MEMBERSCH', 'E13']].sum()\n",
    "county_expenditure['FIPS'] = county_expenditure.index\n",
    "\n",
    "# Calculate Instruction Per Student\n",
    "county_expenditure['Instruction Spending Per Student, 2018'] = county_expenditure['E13']/county_expenditure['MEMBERSCH']\n",
    "\n",
    "# Drop erroneous data\n",
    "county_expenditure = county_expenditure[county_expenditure['Instruction Spending Per Student, 2018']>0]\n",
    "\n",
    "# Add place names\n",
    "county_expenditure['PlaceName'] = county_expenditure['FIPS'].apply(lambda x: fips_to_counties[x])\n",
    "\n",
    "county_expenditure.to_csv('./Cleaned Data/expenditure.csv',index=False)"
   ]
  },
  {
   "cell_type": "markdown",
   "id": "182e3743",
   "metadata": {},
   "source": [
    "# Diabetes Data"
   ]
  },
  {
   "cell_type": "code",
   "execution_count": 18,
   "id": "bdff2ca1",
   "metadata": {},
   "outputs": [],
   "source": [
    "# Data from https://gis.cdc.gov/grasp/diabetes/DiabetesAtlas.html#\n",
    "diabetes_data = pd.read_csv('./Raw Data/DiabetesAtlasCountyData.csv', dtype={'CountyFIPS':'str'},\n",
    "                           usecols=['Percentage', 'CountyFIPS'])\n",
    "\n",
    "# Clean diabetes data\n",
    "diabetes_data = diabetes_data[diabetes_data['Percentage']!='No Data']\n",
    "diabetes_data['Percentage'] = diabetes_data['Percentage'].astype('f8')\n",
    "diabetes_data = diabetes_data.rename({'CountyFIPS':'FIPS', \n",
    "                                      'Percentage':'Diabetes Percentage, 2019'}, axis=1)\n",
    "\n",
    "# Add Place Names\n",
    "diabetes_data['PlaceName'] = diabetes_data['FIPS'].apply(lambda x: fips_to_counties[x])\n",
    "\n",
    "diabetes_data.to_csv('./Cleaned Data/diabetes.csv',index=False)"
   ]
  },
  {
   "cell_type": "markdown",
   "id": "9e14f99d",
   "metadata": {},
   "source": [
    "# Alcohol Consumption Data"
   ]
  },
  {
   "cell_type": "code",
   "execution_count": 29,
   "id": "af9f4dce",
   "metadata": {},
   "outputs": [],
   "source": [
    "# Data from https://ghdx.healthdata.org/us-data\n",
    "alcohol_data = pd.read_excel('./Raw Data/IHME_county_data_Alcohol_NATIONAL.xlsx', sheet_name=2,\n",
    "                            usecols=['State', 'Location', '2012 Both Sexes'])\n",
    "\n",
    "alcohol_data = alcohol_data.rename({'2012 Both Sexes':'Heavy Drinking Percentage, 2012'}, axis=1)\n",
    "\n",
    "alcohol_data = alcohol_data[1:]\n",
    "alcohol_data = alcohol_data[alcohol_data['Location'] != alcohol_data['State']]\n",
    "\n",
    "alcohol_data['Location'] = alcohol_data['Location'].apply(lambda x: x.split(', '))\n",
    "alcohol_data = alcohol_data.explode('Location')\n",
    "\n",
    "alcohol_data['FIPS'] = alcohol_data.apply(state_location_to_fips, axis=1)\n",
    "\n",
    "# Add Place Names\n",
    "alcohol_data['PlaceName'] = alcohol_data['FIPS'].apply(lambda x: fips_to_counties[x])\n",
    "\n",
    "alcohol_data.to_csv('./Cleaned Data/alcohol.csv',index=False)"
   ]
  },
  {
   "cell_type": "markdown",
   "id": "302daf27",
   "metadata": {},
   "source": [
    "# Life Expectancy"
   ]
  },
  {
   "cell_type": "code",
   "execution_count": 20,
   "id": "5441bce6",
   "metadata": {},
   "outputs": [],
   "source": [
    "# Data from https://ghdx.healthdata.org/us-data\n",
    "life_data = pd.read_excel('./Raw Data/IHME_USA_COUNTY_LE_MORTALITY_RISK_1980_2014_NATIONAL_Y2017M05D08.XLSX',\n",
    "                          sheet_name=0, usecols=['FIPS', 'Life expectancy, 2014*'], dtype={'FIPS':'str'})\n",
    "\n",
    "life_data = life_data[life_data['FIPS'].apply(len)>3]\n",
    "life_data['FIPS'] = life_data['FIPS'].apply(lambda x: '0'+x if len(x)<5 else x)\n",
    "life_data['PlaceName'] = life_data['FIPS'].apply(lambda x: fips_to_counties[x])\n",
    "\n",
    "\n",
    "life_data['Life expectancy, 2014*'] = life_data['Life expectancy, 2014*'].apply(lambda x: float(x[:5]))\n",
    "life_data = life_data.rename({'Life expectancy, 2014*':'Life expectancy, 2014'}, axis=1)\n",
    "\n",
    "life_data.to_csv('./Cleaned Data/expectancy.csv',index=False)"
   ]
  },
  {
   "cell_type": "markdown",
   "id": "02b35f6f",
   "metadata": {},
   "source": [
    "# Visualizations"
   ]
  },
  {
   "cell_type": "code",
   "execution_count": 16,
   "id": "eb846e86",
   "metadata": {},
   "outputs": [],
   "source": [
    "def make_map(df, variable, title = None, quant=0.01):\n",
    "    crange = tuple(df[variable].quantile([quant,1-quant]))\n",
    "    map_fig = px.choropleth(df, geojson=counties, locations='FIPS', color=variable,\n",
    "                            color_continuous_scale=\"Viridis\", range_color=crange,\n",
    "                            scope=\"usa\", hover_name = 'PlaceName',\n",
    "                            hover_data = {'FIPS':False}, title=title)\n",
    "    \n",
    "    map_fig.update_coloraxes(colorbar={'orientation':'h', 'thickness':10, 'y':-0.1, 'len':0.7,\n",
    "                                      'title':{'text':''}})\n",
    "    \n",
    "    map_fig.update_layout(margin=dict(l=0, r=0, t=20, b=20))\n",
    "    \n",
    "    return map_fig\n",
    "\n",
    "def merged_scatter(dfs, variables, title=None):\n",
    "    df = pd.merge(left=dfs[0], right=dfs[1], left_on='FIPS', right_on='FIPS')\n",
    "    \n",
    "    fig = px.scatter(df, x=variables[0], y=variables[1], trendline=\"ols\", hover_name='PlaceName_x',\n",
    "                     trendline_color_override=\"red\",\n",
    "                     marginal_x='rug', marginal_y='rug')\n",
    "    \n",
    "    results = px.get_trendline_results(fig).iloc[0][0]\n",
    "    \n",
    "    return fig, results.summary().as_text()"
   ]
  },
  {
   "cell_type": "code",
   "execution_count": 12,
   "id": "6327aa83",
   "metadata": {},
   "outputs": [],
   "source": [
    "# Restrict to main body of schools\n",
    "limited_exp = county_expenditure[county_expenditure['InstPerStudent']<15000]"
   ]
  },
  {
   "cell_type": "code",
   "execution_count": 13,
   "id": "89621712",
   "metadata": {},
   "outputs": [],
   "source": [
    "fig, results = merged_scatter((limited_exp, diabetes_data), ['InstPerStudent', 'Percentage'])"
   ]
  },
  {
   "cell_type": "markdown",
   "id": "d8bb19b5",
   "metadata": {},
   "source": [
    "fig, results = merged_scatter((limited_exp, alcohol_data), ['InstPerStudent', '2012 Both Sexes'])\n",
    "\n",
    "fig.show()\n",
    "\n",
    "results.summary()"
   ]
  },
  {
   "cell_type": "markdown",
   "id": "df90aca6",
   "metadata": {},
   "source": [
    "fig, results = merged_scatter((limited_exp, life_data), ['InstPerStudent', 'Life expectancy, 2014*'], logit=False)\n",
    "\n",
    "fig.show()\n",
    "\n",
    "results.summary()"
   ]
  },
  {
   "cell_type": "markdown",
   "id": "c7992ad2",
   "metadata": {},
   "source": [
    "# Dash ??"
   ]
  },
  {
   "cell_type": "code",
   "execution_count": 30,
   "id": "cc500d3e",
   "metadata": {},
   "outputs": [],
   "source": [
    "from jupyter_dash import JupyterDash\n",
    "from dash import dcc\n",
    "from dash import html\n",
    "from dash.dependencies import Input, Output"
   ]
  },
  {
   "cell_type": "code",
   "execution_count": 28,
   "id": "cb235a7f",
   "metadata": {},
   "outputs": [],
   "source": [
    "scatter_data = {\n",
    "    'Logistic Diabetes': (diabetes_data, 'Logit Percentage'), \n",
    "    'Logistic Alcohol': (alcohol_data, 'Logit 2012 Both Sexes'),\n",
    "    'Life': (life_data, 'Life expectancy, 2014*')\n",
    "}\n",
    "\n",
    "scatter_sources = {key: merged_scatter((limited_exp, val[0]), ['InstPerStudent', val[1]])\n",
    "                   for key, val in scatter_data.items()}\n",
    "\n",
    "map_data = {\n",
    "    'Per Student Instructional Spending': (county_expenditure, 'InstPerStudent'),\n",
    "    'Percentage of Diabetes': (diabetes_data, 'Percentage'),\n",
    "    'Percentage of Heavy Drinking': (alcohol_data, '2012 Both Sexes'),\n",
    "    'Life Expectancy': (life_data, 'Life expectancy, 2014*')\n",
    "}\n",
    "\n",
    "map_sources = {key: make_map(val[0], val[1]) for key, val in map_data.items()}"
   ]
  },
  {
   "cell_type": "code",
   "execution_count": 32,
   "id": "cc0c05cd",
   "metadata": {},
   "outputs": [
    {
     "name": "stdout",
     "output_type": "stream",
     "text": [
      "Dash app running on http://127.0.0.1:8050/\n"
     ]
    }
   ],
   "source": [
    "# Build App\n",
    "external_stylesheets = ['https://codepen.io/chriddyp/pen/bWLwgP.css']\n",
    "\n",
    "app = JupyterDash(__name__, external_stylesheets=external_stylesheets)\n",
    "app.layout = html.Div([\n",
    "    html.Div([\n",
    "        html.H1(\"Compare Two Maps of the US\", \n",
    "                style={'display':'flex', 'justify-content': 'center'}),\n",
    "        html.Div([dcc.Graph(id='map-1'), dcc.Graph(id='map-2')], \n",
    "                 style={'display':'flex', 'flex-direction':'row'}),\n",
    "        html.Div([\n",
    "            html.Label([\n",
    "                'Variable 1',\n",
    "                dcc.Dropdown(\n",
    "                    id='map-1-dropdown', clearable=False, value='Per Student Instructional Spending', \n",
    "                    options=[{'label': c, 'value': c} for c in map_sources.keys()]\n",
    "                )\n",
    "            ], style={'width': '20%', 'display': 'inline-block'}),\n",
    "            \n",
    "            html.Label([\n",
    "                'Variable 2',\n",
    "                dcc.Dropdown(\n",
    "                    id='map-2-dropdown', clearable=False, value='Per Student Instructional Spending', \n",
    "                    options=[{'label': c, 'value': c} for c in map_sources.keys()]\n",
    "                )\n",
    "            ], style={'width': '20%', 'display': 'inline-block'}),\n",
    "        ], style={'display':'flex', 'justify-content':'space-around'}),\n",
    "    ]),\n",
    "    html.H1(\"The Impact of Per Student Instructional Spending\"),\n",
    "    dcc.Graph(id='scatter'),\n",
    "    html.Label([\n",
    "        \"Data Source\",\n",
    "        dcc.Dropdown(\n",
    "            id='scatter-dropdown', clearable=False,\n",
    "            value='Logistic Diabetes', options=[\n",
    "                {'label': c, 'value': c}\n",
    "                for c in scatter_sources.keys()\n",
    "            ])\n",
    "    ]),\n",
    "    html.Div(id='summary', \n",
    "             style={\"white-space\": \"pre\", 'font-family': 'Monaco'})\n",
    "],  \n",
    "    style={'font-family':'Roboto',\n",
    "          'background-color':'#EEE'})\n",
    "# Define callback to update graph\n",
    "@app.callback(\n",
    "    [Output('scatter', 'figure'),\n",
    "     Output('summary', 'children')],\n",
    "    [Input(\"scatter-dropdown\", \"value\")]\n",
    ")\n",
    "def update_scatter(value):\n",
    "    return scatter_sources[value]\n",
    "\n",
    "@app.callback(\n",
    "    Output('map-1', 'figure'),\n",
    "    [Input(\"map-1-dropdown\", \"value\")]\n",
    ")\n",
    "def update_map(value):\n",
    "    return map_sources[value]\n",
    "\n",
    "@app.callback(\n",
    "    Output('map-2', 'figure'),\n",
    "    [Input(\"map-2-dropdown\", \"value\")]\n",
    ")\n",
    "def update_map(value):\n",
    "    return map_sources[value]\n",
    "\n",
    "\n",
    "app.run_server('external')"
   ]
  }
 ],
 "metadata": {
  "kernelspec": {
   "display_name": "Python 3 (ipykernel)",
   "language": "python",
   "name": "python3"
  },
  "language_info": {
   "codemirror_mode": {
    "name": "ipython",
    "version": 3
   },
   "file_extension": ".py",
   "mimetype": "text/x-python",
   "name": "python",
   "nbconvert_exporter": "python",
   "pygments_lexer": "ipython3",
   "version": "3.8.2"
  }
 },
 "nbformat": 4,
 "nbformat_minor": 5
}
